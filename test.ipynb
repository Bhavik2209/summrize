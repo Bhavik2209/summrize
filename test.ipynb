{
 "cells": [
  {
   "cell_type": "code",
   "execution_count": 48,
   "metadata": {},
   "outputs": [],
   "source": [
    "from youtube_transcript_api import YouTubeTranscriptApi"
   ]
  },
  {
   "cell_type": "code",
   "execution_count": 49,
   "metadata": {},
   "outputs": [],
   "source": [
    "def extract_yt_transcript(yt_url):\n",
    "    try:\n",
    "        video_id = yt_url.split('=')[1]\n",
    "        transcript_list = YouTubeTranscriptApi.get_transcript(video_id)\n",
    "        transcript_fulltxt = ''\n",
    "        for transcript in transcript_list:\n",
    "            transcript_fulltxt +=transcript['text']\n",
    "        return transcript_fulltxt\n",
    "    except Exception as e:\n",
    "        raise e"
   ]
  },
  {
   "cell_type": "code",
   "execution_count": 50,
   "metadata": {},
   "outputs": [],
   "source": [
    "# image id = \"http://img.youtube.com/vi/{video_id}/0.jpg\""
   ]
  },
  {
   "cell_type": "code",
   "execution_count": 51,
   "metadata": {},
   "outputs": [
    {
     "ename": "TranscriptsDisabled",
     "evalue": "\nCould not retrieve a transcript for the video https://www.youtube.com/watch?v=g4sae7pVwRaXg8aJ! This is most likely caused by:\n\nSubtitles are disabled for this video\n\nIf you are sure that the described cause is not responsible for this error and that a transcript should be retrievable, please create an issue at https://github.com/jdepoix/youtube-transcript-api/issues. Please add which version of youtube_transcript_api you are using and provide the information needed to replicate the error. Also make sure that there are no open issues which already describe your problem!",
     "output_type": "error",
     "traceback": [
      "\u001b[1;31m---------------------------------------------------------------------------\u001b[0m",
      "\u001b[1;31mTranscriptsDisabled\u001b[0m                       Traceback (most recent call last)",
      "Cell \u001b[1;32mIn[51], line 1\u001b[0m\n\u001b[1;32m----> 1\u001b[0m tra \u001b[38;5;241m=\u001b[39m \u001b[43mextract_yt_transcript\u001b[49m\u001b[43m(\u001b[49m\u001b[38;5;124;43m\"\u001b[39;49m\u001b[38;5;124;43mhttps://youtu.be/un0SjUnHvvE?si=g4sae7pVwRaXg8aJ\u001b[39;49m\u001b[38;5;124;43m\"\u001b[39;49m\u001b[43m)\u001b[49m\n",
      "Cell \u001b[1;32mIn[49], line 10\u001b[0m, in \u001b[0;36mextract_yt_transcript\u001b[1;34m(yt_url)\u001b[0m\n\u001b[0;32m      8\u001b[0m     \u001b[38;5;28;01mreturn\u001b[39;00m transcript_fulltxt\n\u001b[0;32m      9\u001b[0m \u001b[38;5;28;01mexcept\u001b[39;00m \u001b[38;5;167;01mException\u001b[39;00m \u001b[38;5;28;01mas\u001b[39;00m e:\n\u001b[1;32m---> 10\u001b[0m     \u001b[38;5;28;01mraise\u001b[39;00m e\n",
      "Cell \u001b[1;32mIn[49], line 4\u001b[0m, in \u001b[0;36mextract_yt_transcript\u001b[1;34m(yt_url)\u001b[0m\n\u001b[0;32m      2\u001b[0m \u001b[38;5;28;01mtry\u001b[39;00m:\n\u001b[0;32m      3\u001b[0m     video_id \u001b[38;5;241m=\u001b[39m yt_url\u001b[38;5;241m.\u001b[39msplit(\u001b[38;5;124m'\u001b[39m\u001b[38;5;124m=\u001b[39m\u001b[38;5;124m'\u001b[39m)[\u001b[38;5;241m1\u001b[39m]\n\u001b[1;32m----> 4\u001b[0m     transcript_list \u001b[38;5;241m=\u001b[39m \u001b[43mYouTubeTranscriptApi\u001b[49m\u001b[38;5;241;43m.\u001b[39;49m\u001b[43mget_transcript\u001b[49m\u001b[43m(\u001b[49m\u001b[43mvideo_id\u001b[49m\u001b[43m)\u001b[49m\n\u001b[0;32m      5\u001b[0m     transcript_fulltxt \u001b[38;5;241m=\u001b[39m \u001b[38;5;124m'\u001b[39m\u001b[38;5;124m'\u001b[39m\n\u001b[0;32m      6\u001b[0m     \u001b[38;5;28;01mfor\u001b[39;00m transcript \u001b[38;5;129;01min\u001b[39;00m transcript_list:\n",
      "File \u001b[1;32mc:\\Users\\SVI\\Desktop\\Summrize\\env\\Lib\\site-packages\\youtube_transcript_api\\_api.py:137\u001b[0m, in \u001b[0;36mYouTubeTranscriptApi.get_transcript\u001b[1;34m(cls, video_id, languages, proxies, cookies, preserve_formatting)\u001b[0m\n\u001b[0;32m    116\u001b[0m \u001b[38;5;250m\u001b[39m\u001b[38;5;124;03m\"\"\"\u001b[39;00m\n\u001b[0;32m    117\u001b[0m \u001b[38;5;124;03mRetrieves the transcript for a single video. This is just a shortcut for calling::\u001b[39;00m\n\u001b[0;32m    118\u001b[0m \n\u001b[1;32m   (...)\u001b[0m\n\u001b[0;32m    134\u001b[0m \u001b[38;5;124;03m:rtype [{'text': str, 'start': float, 'end': float}]:\u001b[39;00m\n\u001b[0;32m    135\u001b[0m \u001b[38;5;124;03m\"\"\"\u001b[39;00m\n\u001b[0;32m    136\u001b[0m \u001b[38;5;28;01massert\u001b[39;00m \u001b[38;5;28misinstance\u001b[39m(video_id, \u001b[38;5;28mstr\u001b[39m), \u001b[38;5;124m\"\u001b[39m\u001b[38;5;124m`video_id` must be a string\u001b[39m\u001b[38;5;124m\"\u001b[39m\n\u001b[1;32m--> 137\u001b[0m \u001b[38;5;28;01mreturn\u001b[39;00m \u001b[38;5;28;43mcls\u001b[39;49m\u001b[38;5;241;43m.\u001b[39;49m\u001b[43mlist_transcripts\u001b[49m\u001b[43m(\u001b[49m\u001b[43mvideo_id\u001b[49m\u001b[43m,\u001b[49m\u001b[43m \u001b[49m\u001b[43mproxies\u001b[49m\u001b[43m,\u001b[49m\u001b[43m \u001b[49m\u001b[43mcookies\u001b[49m\u001b[43m)\u001b[49m\u001b[38;5;241m.\u001b[39mfind_transcript(languages)\u001b[38;5;241m.\u001b[39mfetch(preserve_formatting\u001b[38;5;241m=\u001b[39mpreserve_formatting)\n",
      "File \u001b[1;32mc:\\Users\\SVI\\Desktop\\Summrize\\env\\Lib\\site-packages\\youtube_transcript_api\\_api.py:71\u001b[0m, in \u001b[0;36mYouTubeTranscriptApi.list_transcripts\u001b[1;34m(cls, video_id, proxies, cookies)\u001b[0m\n\u001b[0;32m     69\u001b[0m     http_client\u001b[38;5;241m.\u001b[39mcookies \u001b[38;5;241m=\u001b[39m \u001b[38;5;28mcls\u001b[39m\u001b[38;5;241m.\u001b[39m_load_cookies(cookies, video_id)\n\u001b[0;32m     70\u001b[0m http_client\u001b[38;5;241m.\u001b[39mproxies \u001b[38;5;241m=\u001b[39m proxies \u001b[38;5;28;01mif\u001b[39;00m proxies \u001b[38;5;28;01melse\u001b[39;00m {}\n\u001b[1;32m---> 71\u001b[0m \u001b[38;5;28;01mreturn\u001b[39;00m \u001b[43mTranscriptListFetcher\u001b[49m\u001b[43m(\u001b[49m\u001b[43mhttp_client\u001b[49m\u001b[43m)\u001b[49m\u001b[38;5;241;43m.\u001b[39;49m\u001b[43mfetch\u001b[49m\u001b[43m(\u001b[49m\u001b[43mvideo_id\u001b[49m\u001b[43m)\u001b[49m\n",
      "File \u001b[1;32mc:\\Users\\SVI\\Desktop\\Summrize\\env\\Lib\\site-packages\\youtube_transcript_api\\_transcripts.py:48\u001b[0m, in \u001b[0;36mTranscriptListFetcher.fetch\u001b[1;34m(self, video_id)\u001b[0m\n\u001b[0;32m     44\u001b[0m \u001b[38;5;28;01mdef\u001b[39;00m \u001b[38;5;21mfetch\u001b[39m(\u001b[38;5;28mself\u001b[39m, video_id):\n\u001b[0;32m     45\u001b[0m     \u001b[38;5;28;01mreturn\u001b[39;00m TranscriptList\u001b[38;5;241m.\u001b[39mbuild(\n\u001b[0;32m     46\u001b[0m         \u001b[38;5;28mself\u001b[39m\u001b[38;5;241m.\u001b[39m_http_client,\n\u001b[0;32m     47\u001b[0m         video_id,\n\u001b[1;32m---> 48\u001b[0m         \u001b[38;5;28;43mself\u001b[39;49m\u001b[38;5;241;43m.\u001b[39;49m\u001b[43m_extract_captions_json\u001b[49m\u001b[43m(\u001b[49m\u001b[38;5;28;43mself\u001b[39;49m\u001b[38;5;241;43m.\u001b[39;49m\u001b[43m_fetch_video_html\u001b[49m\u001b[43m(\u001b[49m\u001b[43mvideo_id\u001b[49m\u001b[43m)\u001b[49m\u001b[43m,\u001b[49m\u001b[43m \u001b[49m\u001b[43mvideo_id\u001b[49m\u001b[43m)\u001b[49m,\n\u001b[0;32m     49\u001b[0m     )\n",
      "File \u001b[1;32mc:\\Users\\SVI\\Desktop\\Summrize\\env\\Lib\\site-packages\\youtube_transcript_api\\_transcripts.py:62\u001b[0m, in \u001b[0;36mTranscriptListFetcher._extract_captions_json\u001b[1;34m(self, html, video_id)\u001b[0m\n\u001b[0;32m     59\u001b[0m     \u001b[38;5;28;01mif\u001b[39;00m \u001b[38;5;124m'\u001b[39m\u001b[38;5;124m\"\u001b[39m\u001b[38;5;124mplayabilityStatus\u001b[39m\u001b[38;5;124m\"\u001b[39m\u001b[38;5;124m:\u001b[39m\u001b[38;5;124m'\u001b[39m \u001b[38;5;129;01mnot\u001b[39;00m \u001b[38;5;129;01min\u001b[39;00m html:\n\u001b[0;32m     60\u001b[0m         \u001b[38;5;28;01mraise\u001b[39;00m VideoUnavailable(video_id)\n\u001b[1;32m---> 62\u001b[0m     \u001b[38;5;28;01mraise\u001b[39;00m TranscriptsDisabled(video_id)\n\u001b[0;32m     64\u001b[0m captions_json \u001b[38;5;241m=\u001b[39m json\u001b[38;5;241m.\u001b[39mloads(\n\u001b[0;32m     65\u001b[0m     splitted_html[\u001b[38;5;241m1\u001b[39m]\u001b[38;5;241m.\u001b[39msplit(\u001b[38;5;124m'\u001b[39m\u001b[38;5;124m,\u001b[39m\u001b[38;5;124m\"\u001b[39m\u001b[38;5;124mvideoDetails\u001b[39m\u001b[38;5;124m'\u001b[39m)[\u001b[38;5;241m0\u001b[39m]\u001b[38;5;241m.\u001b[39mreplace(\u001b[38;5;124m'\u001b[39m\u001b[38;5;130;01m\\n\u001b[39;00m\u001b[38;5;124m'\u001b[39m, \u001b[38;5;124m'\u001b[39m\u001b[38;5;124m'\u001b[39m)\n\u001b[0;32m     66\u001b[0m )\u001b[38;5;241m.\u001b[39mget(\u001b[38;5;124m'\u001b[39m\u001b[38;5;124mplayerCaptionsTracklistRenderer\u001b[39m\u001b[38;5;124m'\u001b[39m)\n\u001b[0;32m     67\u001b[0m \u001b[38;5;28;01mif\u001b[39;00m captions_json \u001b[38;5;129;01mis\u001b[39;00m \u001b[38;5;28;01mNone\u001b[39;00m:\n",
      "\u001b[1;31mTranscriptsDisabled\u001b[0m: \nCould not retrieve a transcript for the video https://www.youtube.com/watch?v=g4sae7pVwRaXg8aJ! This is most likely caused by:\n\nSubtitles are disabled for this video\n\nIf you are sure that the described cause is not responsible for this error and that a transcript should be retrievable, please create an issue at https://github.com/jdepoix/youtube-transcript-api/issues. Please add which version of youtube_transcript_api you are using and provide the information needed to replicate the error. Also make sure that there are no open issues which already describe your problem!"
     ]
    }
   ],
   "source": [
    "tra = extract_yt_transcript(\"https://youtu.be/un0SjUnHvvE?si=g4sae7pVwRaXg8aJ\")"
   ]
  },
  {
   "cell_type": "code",
   "execution_count": null,
   "metadata": {},
   "outputs": [],
   "source": [
    "print(tra)"
   ]
  },
  {
   "cell_type": "code",
   "execution_count": 85,
   "metadata": {},
   "outputs": [],
   "source": [
    "from youtube_transcript_api import YouTubeTranscriptApi\n",
    "from youtube_transcript_api.formatters import TextFormatter\n",
    "import requests\n",
    "import re\n",
    "import os\n",
    "\n",
    "def get_video_id(youtube_url):\n",
    "    \"\"\"\n",
    "    Extract the video ID from a YouTube URL.\n",
    "    Args:\n",
    "        youtube_url (str): The YouTube URL.\n",
    "    Returns:\n",
    "        str: The extracted video ID or None if not found.\n",
    "    \"\"\"\n",
    "    pattern = r'(?:https?:\\/\\/)?(?:www\\.)?(?:youtube\\.com\\/(?:[^\\/\\n\\s]+\\/\\S+\\/|(?:v|e(?:mbed)?)\\/|\\S*?[?&]v=)|youtu\\.be\\/)([a-zA-Z0-9_-]{11})'\n",
    "    match = re.search(pattern, youtube_url)\n",
    "    return match.group(1) if match else None\n",
    "\n",
    "def get_video_title(video_id):\n",
    "    \"\"\"\n",
    "    Get the title of the YouTube video.\n",
    "    Args:\n",
    "        video_id (str): The YouTube video ID.\n",
    "    Returns:\n",
    "        str: The title of the video or \"Unknown\" if not found.\n",
    "    \"\"\"\n",
    "    url = f\"https://www.youtube.com/watch?v={video_id}\"\n",
    "    try:\n",
    "        response = requests.get(url)\n",
    "        response.raise_for_status()\n",
    "        matches = re.findall(r'<title>(.*?)</title>', response.text)\n",
    "        return matches[0].replace(\" - YouTube\", \"\") if matches else \"Unknown\"\n",
    "    except requests.RequestException as e:\n",
    "        print(f\"Error fetching video title: {e}\")\n",
    "        return \"Unknown\"\n",
    "\n",
    "def download_transcript(video_id):\n",
    "    \"\"\"\n",
    "    Download the transcript and return as a string.\n",
    "    Args:\n",
    "        video_id (str): The YouTube video ID.\n",
    "    Returns:\n",
    "        str: The transcript text or an empty string if an error occurs.\n",
    "    \"\"\"\n",
    "    try:\n",
    "        transcript_list = YouTubeTranscriptApi.list_transcripts(video_id)\n",
    "        transcripts = {}\n",
    "\n",
    "        for transcript in transcript_list:\n",
    "            transcript_text = transcript.fetch()\n",
    "            formatter = TextFormatter()\n",
    "            formatted_text = formatter.format_transcript(transcript_text)\n",
    "\n",
    "            # Remove timecodes and speaker names\n",
    "            formatted_text = re.sub(r'\\[\\d+:\\d+:\\d+\\]', '', formatted_text)\n",
    "            formatted_text = re.sub(r'<\\w+>', '', formatted_text)\n",
    "\n",
    "            transcripts[transcript.language_code] = formatted_text\n",
    "\n",
    "        return transcripts\n",
    "    except Exception as e:\n",
    "        print(f\"Error downloading transcript: {e}\")\n",
    "        return \"\"\n",
    "\n",
    "# def main():\n",
    "#     youtube_url = input(\"Enter the YouTube video link: \")\n",
    "#     video_id = get_video_id(youtube_url)\n",
    "\n",
    "#     if video_id:\n",
    "#         transcript_text = download_transcript(video_id)\n",
    "#         if transcript_text:\n",
    "#             video_title = get_video_title(video_id)\n",
    "#             file_name = f\"{video_id}_{video_title}.txt\"\n",
    "#             file_name = re.sub(r'[\\\\/*?:\"<>|]', '', file_name)  # Remove invalid characters\n",
    "\n",
    "#             with open(file_name, 'w', encoding='utf-8') as file:\n",
    "#                 file.write(transcript_text)\n",
    "\n",
    "#             print(f\"Transcript saved to {file_name}\")\n",
    "#         else:\n",
    "#             print(\"Unable to download transcript.\")\n",
    "#     else:\n",
    "#         print(\"Invalid YouTube URL.\")\n"
   ]
  },
  {
   "cell_type": "code",
   "execution_count": 90,
   "metadata": {},
   "outputs": [],
   "source": [
    "video_id = get_video_id(\"htt1ps://youtu.be/eFe8bJ9e_FA?si=A5InRNQMGA7zj2B2\")\n",
    "tra = download_transcript(video_id)\n",
    "title = get_video_title(video_id)\n"
   ]
  },
  {
   "cell_type": "code",
   "execution_count": null,
   "metadata": {},
   "outputs": [],
   "source": []
  }
 ],
 "metadata": {
  "kernelspec": {
   "display_name": "env",
   "language": "python",
   "name": "python3"
  },
  "language_info": {
   "codemirror_mode": {
    "name": "ipython",
    "version": 3
   },
   "file_extension": ".py",
   "mimetype": "text/x-python",
   "name": "python",
   "nbconvert_exporter": "python",
   "pygments_lexer": "ipython3",
   "version": "3.12.2"
  }
 },
 "nbformat": 4,
 "nbformat_minor": 2
}
